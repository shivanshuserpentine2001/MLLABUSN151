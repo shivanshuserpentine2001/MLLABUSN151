{
 "cells": [
  {
   "cell_type": "code",
   "execution_count": 1,
   "id": "a8d09656",
   "metadata": {},
   "outputs": [],
   "source": [
    "import math\n",
    "import csv"
   ]
  },
  {
   "cell_type": "code",
   "execution_count": 2,
   "id": "8d15bf52",
   "metadata": {},
   "outputs": [],
   "source": [
    "def load_csv(filename):\n",
    "    lines=csv.reader(open(filename,\"r\"));\n",
    "    dataset = list(lines)\n",
    "    headers = dataset.pop(0)\n",
    "    return dataset,headers"
   ]
  },
  {
   "cell_type": "code",
   "execution_count": 3,
   "id": "e16238c1",
   "metadata": {},
   "outputs": [],
   "source": [
    "class Node:\n",
    "    def __init__(self,attribute):\n",
    "        self.attribute=attribute\n",
    "        self.children=[]\n",
    "        self.answer=\"\""
   ]
  },
  {
   "cell_type": "code",
   "execution_count": 4,
   "id": "9a54be9a",
   "metadata": {},
   "outputs": [],
   "source": [
    "def subtables(data,col,delete):\n",
    "    dic={}\n",
    "    coldata=[row[col] for row in data]\n",
    "    attr=list(set(coldata))\n",
    "    \n",
    "    counts=[0]*len(attr)\n",
    "    r=len(data)\n",
    "    c=len(data[0])\n",
    "    for x in range(len(attr)):\n",
    "        for y in range(r):\n",
    "            if data[y][col]==attr[x]:\n",
    "                counts[x]+=1\n",
    "        \n",
    "    for x in range(len(attr)):\n",
    "        dic[attr[x]]=[[0 for i in range(c)] for j in range(counts[x])]\n",
    "        pos=0\n",
    "        for y in range(r):\n",
    "            if data[y][col]==attr[x]:\n",
    "                if delete:\n",
    "                    del data[y][col]\n",
    "                dic[attr[x]][pos]=data[y]\n",
    "                pos+=1\n",
    "    return attr,dic"
   ]
  },
  {
   "cell_type": "code",
   "execution_count": 5,
   "id": "3f58d689",
   "metadata": {},
   "outputs": [],
   "source": [
    "def entropy(S):\n",
    "    attr=list(set(S))\n",
    "    if len(attr)==1:\n",
    "        return 0\n",
    "    \n",
    "    counts=[0,0]\n",
    "    for i in range(2):\n",
    "        counts[i]=sum([1 for x in S if attr[i]==x])/(len(S)*1.0)\n",
    "    \n",
    "    sums=0\n",
    "    for cnt in counts:\n",
    "        sums+=-1*cnt*math.log(cnt,2)\n",
    "    return sums\n"
   ]
  },
  {
   "cell_type": "code",
   "execution_count": 6,
   "id": "fd5a267f",
   "metadata": {},
   "outputs": [],
   "source": [
    "def compute_gain(data,col):\n",
    "    attr,dic = subtables(data,col,delete=False)\n",
    "    \n",
    "    total_size=len(data)\n",
    "    entropies=[0]*len(attr)\n",
    "    ratio=[0]*len(attr)\n",
    "    \n",
    "    total_entropy=entropy([row[-1] for row in data])\n",
    "    for x in range(len(attr)):\n",
    "        ratio[x]=len(dic[attr[x]])/(total_size*1.0)\n",
    "        entropies[x]=entropy([row[-1] for row in dic[attr[x]]])\n",
    "        total_entropy-=ratio[x]*entropies[x]\n",
    "    return total_entropy"
   ]
  },
  {
   "cell_type": "code",
   "execution_count": 7,
   "id": "9ee984ea",
   "metadata": {},
   "outputs": [],
   "source": [
    "def build_tree(data,features):\n",
    "    lastcol=[row[-1] for row in data]\n",
    "    if(len(set(lastcol)))==1:\n",
    "        node=Node(\"\")\n",
    "        node.answer=lastcol[0]\n",
    "        return node\n",
    "    \n",
    "    n=len(data[0])-1\n",
    "    gains=[0]*n\n",
    "    for col in range(n):\n",
    "        gains[col]=compute_gain(data,col)\n",
    "    split=gains.index(max(gains))\n",
    "    node=Node(features[split])\n",
    "    fea = features[:split]+features[split+1:]\n",
    "\n",
    "    \n",
    "    attr,dic=subtables(data,split,delete=True)\n",
    "    \n",
    "    for x in range(len(attr)):\n",
    "        child=build_tree(dic[attr[x]],fea)\n",
    "        node.children.append((attr[x],child))\n",
    "    return node"
   ]
  },
  {
   "cell_type": "code",
   "execution_count": 9,
   "id": "4933cd3a",
   "metadata": {},
   "outputs": [],
   "source": [
    "def print_tree(node,level):\n",
    "    if node.answer!=\"\":\n",
    "        print(\"  \"*level,node.answer)\n",
    "        return\n",
    "     \n",
    "    print(\"  \"*level,node.attribute)\n",
    "    for value,n in node.children:\n",
    "        print(\"  \"*(level+1),value)\n",
    "        print_tree(n,level+2)"
   ]
  },
  {
   "cell_type": "code",
   "execution_count": 10,
   "id": "9eeaae34",
   "metadata": {},
   "outputs": [],
   "source": [
    "def classify(node,x_test,features):\n",
    "    if node.answer!=\"\":\n",
    "        print(node.answer)\n",
    "        return\n",
    "    pos=features.index(node.attribute)\n",
    "    for value, n in node.children:\n",
    "        if x_test[pos]==value:\n",
    "            classify(n,x_test,features)\n",
    "            "
   ]
  },
  {
   "cell_type": "code",
   "execution_count": 12,
   "id": "9c58ee00",
   "metadata": {},
   "outputs": [
    {
     "name": "stdout",
     "output_type": "stream",
     "text": [
      "The decision tree for the dataset using ID3 algorithm is\n",
      " outlook\n",
      "   overcast\n",
      "     yes\n",
      "   sunny\n",
      "     humidity\n",
      "       high\n",
      "         no\n",
      "       normal\n",
      "         yes\n",
      "   rainy\n",
      "     windy\n",
      "       false\n",
      "         yes\n",
      "       true\n",
      "         no\n"
     ]
    }
   ],
   "source": [
    "dataset,features=load_csv(\"tennis.csv\")\n",
    "node1=build_tree(dataset,features)\n",
    "\n",
    "print(\"The decision tree for the dataset using ID3 algorithm is\")\n",
    "print_tree(node1,0)"
   ]
  },
  {
   "cell_type": "code",
   "execution_count": null,
   "id": "7ddf46ac",
   "metadata": {},
   "outputs": [],
   "source": []
  }
 ],
 "metadata": {
  "kernelspec": {
   "display_name": "Python 3 (ipykernel)",
   "language": "python",
   "name": "python3"
  },
  "language_info": {
   "codemirror_mode": {
    "name": "ipython",
    "version": 3
   },
   "file_extension": ".py",
   "mimetype": "text/x-python",
   "name": "python",
   "nbconvert_exporter": "python",
   "pygments_lexer": "ipython3",
   "version": "3.9.7"
  }
 },
 "nbformat": 4,
 "nbformat_minor": 5
}
