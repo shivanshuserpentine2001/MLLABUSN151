{
 "cells": [
  {
   "cell_type": "code",
   "execution_count": 1,
   "id": "66283c55",
   "metadata": {},
   "outputs": [],
   "source": [
    "import numpy as np\n",
    "import pandas as pd"
   ]
  },
  {
   "cell_type": "code",
   "execution_count": 4,
   "id": "cbe7d728",
   "metadata": {},
   "outputs": [
    {
     "name": "stdout",
     "output_type": "stream",
     "text": [
      "     Sky AirTemp Humidity    Wind Water Forecast  EnjoySport\n",
      "0  Sunny    Warm   Normal  Strong  Warm     Same           1\n",
      "1  Sunny    Warm     High  Strong  Warm     Same           1\n",
      "2  Rainy    Cold     High  Strong  Warm   Change           0\n",
      "3  Sunny    Warm     High  Strong  Cool   Change           1 \n",
      "\n"
     ]
    }
   ],
   "source": [
    "data=pd.read_csv(\"ENJOYSPORT.csv\")\n",
    "print(data,\"\\n\")"
   ]
  },
  {
   "cell_type": "code",
   "execution_count": 5,
   "id": "6ee4c807",
   "metadata": {},
   "outputs": [
    {
     "name": "stdout",
     "output_type": "stream",
     "text": [
      "\n",
      " The attributes are:  [['Sunny' 'Warm' 'Normal' 'Strong' 'Warm' 'Same']\n",
      " ['Sunny' 'Warm' 'High' 'Strong' 'Warm' 'Same']\n",
      " ['Rainy' 'Cold' 'High' 'Strong' 'Warm' 'Change']\n",
      " ['Sunny' 'Warm' 'High' 'Strong' 'Cool' 'Change']]\n",
      "\n",
      " The target is:  [1 1 0 1]\n"
     ]
    }
   ],
   "source": [
    "d = np.array(data)[:,:-1]\n",
    "print(\"\\n The attributes are: \",d)\n",
    "target = np.array(data)[:,-1]\n",
    "print(\"\\n The target is: \",target)"
   ]
  },
  {
   "cell_type": "code",
   "execution_count": 7,
   "id": "420d0568",
   "metadata": {},
   "outputs": [
    {
     "name": "stdout",
     "output_type": "stream",
     "text": [
      "\n",
      " The final hypothesis is: ['Sunny' 'Warm' '?' 'Strong' '?' '?']\n"
     ]
    }
   ],
   "source": [
    "def findS(c,t):\n",
    "    for i, val in enumerate(t):\n",
    "        if val == 1:\n",
    "            specific_hypothesis = c[i].copy()\n",
    "            break\n",
    "             \n",
    "    for i, val in enumerate(c):\n",
    "        if t[i] == 1:\n",
    "            for x in range(len(specific_hypothesis)):\n",
    "                if val[x] != specific_hypothesis[x]:\n",
    "                    specific_hypothesis[x] = '?'\n",
    "                else:\n",
    "                    pass\n",
    "                 \n",
    "    return specific_hypothesis\n",
    " \n",
    "print(\"\\n The final hypothesis is:\",findS(d,target))"
   ]
  },
  {
   "cell_type": "code",
   "execution_count": null,
   "id": "b218e910",
   "metadata": {},
   "outputs": [],
   "source": []
  },
  {
   "cell_type": "code",
   "execution_count": null,
   "id": "9d7307fd",
   "metadata": {},
   "outputs": [],
   "source": []
  }
 ],
 "metadata": {
  "kernelspec": {
   "display_name": "Python 3 (ipykernel)",
   "language": "python",
   "name": "python3"
  },
  "language_info": {
   "codemirror_mode": {
    "name": "ipython",
    "version": 3
   },
   "file_extension": ".py",
   "mimetype": "text/x-python",
   "name": "python",
   "nbconvert_exporter": "python",
   "pygments_lexer": "ipython3",
   "version": "3.9.7"
  }
 },
 "nbformat": 4,
 "nbformat_minor": 5
}
